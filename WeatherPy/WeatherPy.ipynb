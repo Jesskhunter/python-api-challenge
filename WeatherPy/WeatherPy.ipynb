{
 "cells": [
  {
   "cell_type": "markdown",
   "metadata": {},
   "source": [
    "# WeatherPy\n",
    "----"
   ]
  },
  {
   "cell_type": "code",
   "execution_count": null,
   "metadata": {},
   "outputs": [],
   "source": [
    "# Dependencies and Setup\n",
    "import json\n",
    "import requests\n",
    "from scipy import stats\n",
    "import matplotlib.pyplot as plt\n",
    "import pandas as pd\n",
    "import numpy as np\n",
    "import time\n",
    "import datetime\n",
    "from scipy.stats import linregress\n",
    "\n",
    "# Import API key\n",
    "from api_key import weather_api_key\n",
    "\n",
    "# Incorporate citipy to determine city based on latitude and longitude\n",
    "from citipy import citipy\n",
    "\n",
    "# Output File (CSV)\n",
    "output_data_file = \"../output_data/city_data.csv\"\n",
    "\n",
    "# Range of latitude and longitude\n",
    "lat_range = (-90, 90)\n",
    "lng_range = (-180, 180)"
   ]
  },
  {
   "cell_type": "markdown",
   "metadata": {},
   "source": [
    "## Generate Cities List"
   ]
  },
  {
   "cell_type": "code",
   "execution_count": null,
   "metadata": {},
   "outputs": [],
   "source": [
    "# List for holding lat_lngs and cities\n",
    "lat_lngs = []\n",
    "cities = []\n",
    "\n",
    "# Create a set of random lat and lng combinations\n",
    "lats = np.random.uniform(low=-90.000, high=90.000, size=1500)\n",
    "lngs = np.random.uniform(low=-180.000, high=180.000, size=1500)\n",
    "lat_lngs = zip(lats, lngs)\n",
    "\n",
    "# Identify nearest city for each lat, lng combination\n",
    "for lat_lng in lat_lngs:\n",
    "    city = citipy.nearest_city(lat_lng[0], lat_lng[1]).city_name\n",
    "    \n",
    "    # If the city is unique, then add it to a our cities list\n",
    "    if city not in cities:\n",
    "        cities.append(city)\n",
    "\n",
    "# Print the city count to confirm sufficient count\n",
    "len(cities)"
   ]
  },
  {
   "cell_type": "code",
   "execution_count": null,
   "metadata": {},
   "outputs": [],
   "source": [
    "city_names = []\n",
    "lat = []\n",
    "long = []\n",
    "maxtemp = []\n",
    "humidity = []\n",
    "cloudiness = []\n",
    "wind_speed = []\n",
    "country = []\n",
    "date = []\n",
    "city_counter = 1\n",
    "set_counter = 1"
   ]
  },
  {
   "cell_type": "markdown",
   "metadata": {},
   "source": [
    "### Perform API Calls\n",
    "* Perform a weather check on each city using a series of successive API calls.\n",
    "* Include a print log of each city as it's being processed (with the city number and city name).\n"
   ]
  },
  {
   "cell_type": "code",
   "execution_count": null,
   "metadata": {},
   "outputs": [],
   "source": [
    "#         date.append(response[\"dt\"])\n",
    "\n",
    "print(\"Beginning Data Retrieval \")\n",
    "print(\"-----------------------------\")\n",
    "\n",
    "base_url = \"http://api.openweathermap.org/data/2.5/weather?\"\n",
    "units = \"imperial\"\n",
    "query_url = f\"{base_url}appid={weather_api_key}&units={units}&q=\"\n",
    "\n",
    "# For each city name in cities list, do below things...\n",
    "for index, city in enumerate(cities, start = 1):\n",
    "    try:\n",
    "        response = requests.get(query_url + city).json()\n",
    "        city_names.append(response[\"name\"])\n",
    "        cloudiness.append(response[\"clouds\"][\"all\"])\n",
    "        country.append(response[\"sys\"][\"country\"])\n",
    "        date = datetime.datetime.fromtimestamp(int(response['dt'])).strftime('%m-%d-%Y')\n",
    "        humidity.append(response[\"main\"][\"humidity\"])\n",
    "        lat.append(response[\"coord\"][\"lat\"])\n",
    "        long.append(response[\"coord\"][\"lon\"])\n",
    "        maxtemp.append(response[\"main\"][\"temp_max\"])\n",
    "        wind_speed.append(response[\"wind\"][\"speed\"])\n",
    "        \n",
    "        if city_counter > 49:\n",
    "            city_counter = 0\n",
    "            set_counter = set_counter + 1\n",
    "    \n",
    "        else:\n",
    "            city_counter = city_counter + 1\n",
    "            \n",
    "        print(f\"Processing Record {city_counter} of Set {set_counter} : {city}\") \n",
    "  \n",
    "    except(KeyError, IndexError):\n",
    "        print(\"City not found. Skipping...\")\n",
    "\n",
    "print(\"-----------------------------\")\n",
    "print(\"Data Retrieval Complete\")\n",
    "print(\"-----------------------------\")"
   ]
  },
  {
   "cell_type": "markdown",
   "metadata": {},
   "source": [
    "### Convert Raw Data to DataFrame\n",
    "* Export the city data into a .csv.\n",
    "* Display the DataFrame"
   ]
  },
  {
   "cell_type": "code",
   "execution_count": null,
   "metadata": {},
   "outputs": [],
   "source": [
    "# Put the data into a dataframe\n",
    "city_data_df = pd.DataFrame({\n",
    "    \"City\": city_names,\n",
    "    \"Lat\": lat,\n",
    "    \"Lng\": long,\n",
    "    \"Max Temp\": maxtemp,\n",
    "    \"Humidity\": humidity,\n",
    "    \"Cloudiness\": cloudiness,\n",
    "    \"Wind Speed\": wind_speed,\n",
    "    \"Country\": country,\n",
    "    \"Date\": date\n",
    "})\n",
    "\n",
    "# Display the DataFrame\n",
    "city_data_df.head()"
   ]
  },
  {
   "cell_type": "code",
   "execution_count": null,
   "metadata": {},
   "outputs": [],
   "source": [
    "# How many entries were returned?\n",
    "city_data_df.count()"
   ]
  },
  {
   "cell_type": "code",
   "execution_count": null,
   "metadata": {},
   "outputs": [],
   "source": [
    "# Inspect the data by using the describe function\n",
    "city_data_df.describe()"
   ]
  },
  {
   "cell_type": "code",
   "execution_count": null,
   "metadata": {},
   "outputs": [],
   "source": [
    "# Export the city data into a csv file\n",
    "city_data_df.to_csv(\"../output_data/city_data.csv\", index=False)"
   ]
  },
  {
   "cell_type": "code",
   "execution_count": null,
   "metadata": {},
   "outputs": [],
   "source": [
    "# Show Record Count\n",
    "countforme = len(city_data_df)\n",
    "countforme"
   ]
  },
  {
   "cell_type": "markdown",
   "metadata": {},
   "source": [
    "### Plotting the Data\n",
    "* Use proper labeling of the plots using plot titles (including date of analysis) and axes labels.\n",
    "* Save the plotted figures as .pngs."
   ]
  },
  {
   "cell_type": "code",
   "execution_count": null,
   "metadata": {},
   "outputs": [],
   "source": [
    "# Calculate latest date (max) for plot titles\n",
    "tstamp = city_data_df.Date.max()\n",
    "tstamp"
   ]
  },
  {
   "cell_type": "markdown",
   "metadata": {},
   "source": [
    "#### Latitude vs. Temperature Plot"
   ]
  },
  {
   "cell_type": "code",
   "execution_count": null,
   "metadata": {},
   "outputs": [],
   "source": [
    "plt.scatter(city_data_df[\"Lat\"], city_data_df[\"Max Temp\"], marker = \"o\", s = 25, facecolor = \"teal\", edgecolor=\"black\")\n",
    "plt.grid()\n",
    "plt.xlabel(\"Latitude\")\n",
    "plt.ylabel(\"Temperature (°F)\")\n",
    "plt.title(\"Temperature (°F) vs Latitude\")\n",
    "\n",
    "plt.savefig(\"../images/tempvlat.png\")\n",
    "\n",
    "# As latitude approaches 0, i.e. the equator, temperature increases"
   ]
  },
  {
   "cell_type": "markdown",
   "metadata": {},
   "source": [
    "#### Latitude vs. Humidity Plot"
   ]
  },
  {
   "cell_type": "code",
   "execution_count": null,
   "metadata": {},
   "outputs": [],
   "source": [
    "plt.scatter(city_data_df[\"Lat\"], city_data_df[\"Humidity\"], marker = \"o\", s = 25, facecolor = \"teal\", edgecolor=\"black\")\n",
    "plt.grid()\n",
    "plt.xlabel(\"Latitude\")\n",
    "plt.ylabel(\"Humidity (%)\")\n",
    "plt.title(\"Humidity (%) vs Latitude\")\n",
    "\n",
    "plt.savefig(\"../images/humvlat.png\")\n",
    "\n",
    "# There seems to be no relationship between humidity and latitude"
   ]
  },
  {
   "cell_type": "markdown",
   "metadata": {},
   "source": [
    "#### Latitude vs. Cloudiness Plot"
   ]
  },
  {
   "cell_type": "code",
   "execution_count": null,
   "metadata": {},
   "outputs": [],
   "source": [
    "plt.scatter(city_data_df[\"Lat\"], city_data_df[\"Cloudiness\"], marker = \"o\", s = 25, facecolor = \"teal\", edgecolor=\"black\")\n",
    "plt.grid()\n",
    "plt.xlabel(\"Latitude\")\n",
    "plt.ylabel(\"Cloudiness (%)\")\n",
    "plt.title(\"Cloudiness (%) vs Latitude\")\n",
    "\n",
    "plt.savefig(\"../images/cloudvlat.png\")\n",
    "\n",
    "# There seems to be no relationship between cloudiness and latitude"
   ]
  },
  {
   "cell_type": "markdown",
   "metadata": {},
   "source": [
    "#### Latitude vs. Wind Speed Plot"
   ]
  },
  {
   "cell_type": "code",
   "execution_count": null,
   "metadata": {},
   "outputs": [],
   "source": [
    "plt.scatter(city_data_df[\"Lat\"], city_data_df[\"Wind Speed\"], marker = \"o\", s = 25, facecolor = \"teal\", edgecolor=\"black\")\n",
    "plt.grid()\n",
    "plt.xlabel(\"Latitude\")\n",
    "plt.ylabel(\"Wind Speed (mph)\")\n",
    "plt.title(\"Wind Speed (mph) vs Latitude\")\n",
    "\n",
    "plt.savefig(\"../images/windvlat.png\")\n",
    "\n",
    "# There seems to be no relationship between wind speed and latitude"
   ]
  },
  {
   "cell_type": "markdown",
   "metadata": {},
   "source": [
    "## Linear Regression"
   ]
  },
  {
   "cell_type": "code",
   "execution_count": null,
   "metadata": {},
   "outputs": [],
   "source": [
    "# Locate cities above or equal to 0 latitude and below 0 latitude\n",
    "northern_cities = city_data_df[city_data_df.loc[:, \"Lat\"] >= 0]\n",
    "southern_cities = city_data_df[city_data_df.loc[:, \"Lat\"] < 0]"
   ]
  },
  {
   "cell_type": "code",
   "execution_count": null,
   "metadata": {},
   "outputs": [],
   "source": [
    "# Create Northern and Southern Hemisphere DataFrames\n",
    "northlat_df = city_data_df.loc[city_data_df[\"Lat\"] >= 0,:]\n",
    "southlat_df = city_data_df.loc[city_data_df[\"Lat\"] < 0,:]"
   ]
  },
  {
   "cell_type": "code",
   "execution_count": null,
   "metadata": {},
   "outputs": [],
   "source": [
    "#Your next objective is to run linear regression on each relationship, only this time separating \n",
    "#them into Northern Hemisphere (greater than or equal to 0 degrees latitude) and \n",
    "#Southern Hemisphere (less than 0 degrees latitude):\n",
    "\n",
    "#Northern Hemisphere - Humidity (%) vs. Latitude\n",
    "#Southern Hemisphere - Humidity (%) vs. Latitude\n",
    "#Northern Hemisphere - Cloudiness (%) vs. Latitude\n",
    "#Southern Hemisphere - Cloudiness (%) vs. Latitude\n",
    "#Northern Hemisphere - Wind Speed (mph) vs. Latitude\n",
    "#Southern Hemisphere - Wind Speed (mph) vs. Latitude\n",
    "\n",
    "#After each pair of plots explain what the linear regression is analyzing, any relationships you notice and any other analysis you may have."
   ]
  },
  {
   "cell_type": "markdown",
   "metadata": {},
   "source": [
    "####  Northern Hemisphere - Max Temp vs. Latitude Linear Regression"
   ]
  },
  {
   "cell_type": "code",
   "execution_count": null,
   "metadata": {},
   "outputs": [],
   "source": [
    "# Plot Temperature (°F) vs Latitude with linear regression for northern hemisphere\n",
    "plt.scatter(northern_cities[\"Lat\"], northern_cities[\"Max Temp\"], marker = \"o\", s = 25, facecolor = \"teal\", edgecolor=\"black\")\n",
    "plt.grid()\n",
    "plt.xlabel(\"Latitude\")\n",
    "plt.ylabel(\"Temperature (°F)\")\n",
    "plt.title(\"Temperature (°F) vs Latitude (NH)\")\n",
    "(slope, intercept, rvalue, pvalue, stderr) = linregress(northern_cities[\"Lat\"], northern_cities[\"Max Temp\"])\n",
    "regress_values = northern_cities[\"Lat\"] * slope + intercept\n",
    "line_equation = \"y = \" + str(round(slope,2)) + \"x + \" + str(round(intercept,2))\n",
    "plt.annotate(line_equation,(10,10),fontsize=12,color=\"black\")\n",
    "plt.plot(northern_cities[\"Lat\"],regress_values,\"r-\")\n",
    "\n",
    "plt.savefig(\"../images/tempvlatnh.png\")"
   ]
  },
  {
   "cell_type": "code",
   "execution_count": null,
   "metadata": {},
   "outputs": [],
   "source": [
    "print(\"The high r value indicates a strong positive correlation between latitude and max temperature.\")"
   ]
  },
  {
   "cell_type": "markdown",
   "metadata": {},
   "source": [
    "####  Southern Hemisphere - Max Temp vs. Latitude Linear Regression"
   ]
  },
  {
   "cell_type": "code",
   "execution_count": null,
   "metadata": {},
   "outputs": [],
   "source": [
    "# Plot Temperature (F) vs Latitude with linear regression for southern hemisphere\n",
    "plt.scatter(southern_cities[\"Lat\"], southern_cities[\"Max Temp\"], marker = \"o\", s = 25, facecolor = \"teal\", edgecolor=\"black\")\n",
    "plt.grid()\n",
    "plt.xlabel(\"Latitude\")\n",
    "plt.ylabel(\"Temperature (°F)\")\n",
    "plt.title(\"Temperature (°F) vs Latitude (SH)\")\n",
    "(slope, intercept, rvalue, pvalue, stderr) = linregress(southern_cities[\"Lat\"], southern_cities[\"Max Temp\"])\n",
    "regress_values = southern_cities[\"Lat\"] * slope + intercept\n",
    "line_equation = \"y = \" + str(round(slope,2)) + \"x + \" + str(round(intercept,2))\n",
    "plt.annotate(line_equation,(-53,81),fontsize=12,color=\"black\")\n",
    "plt.plot(southern_cities[\"Lat\"],regress_values,\"r-\")\n",
    "\n",
    "plt.savefig(\"../images/tempvlatsh.png\")"
   ]
  },
  {
   "cell_type": "code",
   "execution_count": null,
   "metadata": {},
   "outputs": [],
   "source": [
    "print(\"The high r value indicates a strong positive correlation between latitude and max temperature.\")"
   ]
  },
  {
   "cell_type": "markdown",
   "metadata": {},
   "source": [
    "####  Northern Hemisphere - Humidity (%) vs. Latitude Linear Regression"
   ]
  },
  {
   "cell_type": "code",
   "execution_count": null,
   "metadata": {},
   "outputs": [],
   "source": [
    "# x_values = northlat_df[\"Lat\"]\n",
    "# y_values = northlat_df[\"Humidity\"]\n",
    "# plot_linear_regression(x_values,y_values,'Humidity',(6,30))\n",
    "\n",
    "# plt.savefig('northernhumvlat')\n",
    "\n",
    "plt.scatter(northern_cities[\"Lat\"], northern_cities[\"Humidity\"], marker = \"o\", s = 25, facecolor = \"teal\", edgecolor=\"black\")\n",
    "plt.grid()\n",
    "plt.xlabel(\"Latitude\")\n",
    "plt.ylabel(\"Humidity\")\n",
    "plt.title(\"Humidity vs Latitude (NH)\")\n",
    "(slope, intercept, rvalue, pvalue, stderr) = linregress(northern_cities[\"Lat\"], northern_cities[\"Humidity\"])\n",
    "regress_values = northern_cities[\"Lat\"] * slope + intercept\n",
    "line_equation = \"y = \" + str(round(slope,2)) + \"x + \" + str(round(intercept,2))\n",
    "plt.annotate(line_equation,(10,10),fontsize=12,color=\"black\")\n",
    "plt.plot(northern_cities[\"Lat\"],regress_values,\"r-\")\n",
    "\n",
    "plt.savefig(\"../images/northernhumvlat.png\")"
   ]
  },
  {
   "cell_type": "markdown",
   "metadata": {},
   "source": [
    "####  Southern Hemisphere - Humidity (%) vs. Latitude Linear Regression"
   ]
  },
  {
   "cell_type": "code",
   "execution_count": null,
   "metadata": {},
   "outputs": [],
   "source": [
    "x_values = southlat_df[\"Lat\"]\n",
    "y_values = southlat_df[\"Humidity\"]\n",
    "plot_linear_regression(x_values,y_values,'Humidity',(6,30))\n",
    "\n",
    "plt.savefig('southernhumvlat')\n",
    "\n",
    "print(\"The low r values indicate a weak to no relationship between humidity and latitude.\")"
   ]
  },
  {
   "cell_type": "markdown",
   "metadata": {},
   "source": [
    "####  Northern Hemisphere - Cloudiness (%) vs. Latitude Linear Regression"
   ]
  },
  {
   "cell_type": "code",
   "execution_count": null,
   "metadata": {},
   "outputs": [],
   "source": [
    "x_values = northlat_df[\"Lat\"]\n",
    "y_values = northlat_df[\"Cloudiness\"]\n",
    "plot_linear_regression(x_values,y_values,'Cloudiness',(6,30))\n",
    "\n",
    "plt.savefig('northerncloudvlat')"
   ]
  },
  {
   "cell_type": "markdown",
   "metadata": {},
   "source": [
    "####  Southern Hemisphere - Cloudiness (%) vs. Latitude Linear Regression"
   ]
  },
  {
   "cell_type": "code",
   "execution_count": null,
   "metadata": {},
   "outputs": [],
   "source": [
    "x_values = southlat_df[\"Lat\"]\n",
    "y_values = southlat_df[\"Cloudiness\"]\n",
    "plot_linear_regression(x_values,y_values,'Cloudiness',(6,30))\n",
    "\n",
    "plt.savefig('southerncloudvlat')\n",
    "\n",
    "print(\"The low r values indicate a weak positive relationship between latitude and cloudiness.\")"
   ]
  },
  {
   "cell_type": "markdown",
   "metadata": {},
   "source": [
    "####  Northern Hemisphere - Wind Speed (mph) vs. Latitude Linear Regression"
   ]
  },
  {
   "cell_type": "code",
   "execution_count": null,
   "metadata": {},
   "outputs": [],
   "source": [
    "x_values = northlat_df[\"Lat\"]\n",
    "y_values = northlat_df[\"Wind Speed\"]\n",
    "plot_linear_regression(x_values,y_values,'Wind Speed',(6,30))\n",
    "\n",
    "plt.savefig('northernwindvlat')"
   ]
  },
  {
   "cell_type": "markdown",
   "metadata": {},
   "source": [
    "####  Southern Hemisphere - Wind Speed (mph) vs. Latitude Linear Regression"
   ]
  },
  {
   "cell_type": "code",
   "execution_count": null,
   "metadata": {},
   "outputs": [],
   "source": [
    "x_values = southlat_df[\"Lat\"]\n",
    "y_values = southlat_df[\"Wind Speed\"]\n",
    "plot_linear_regression(x_values,y_values,'Wind Speed',(6,30))\n",
    "\n",
    "plt.savefig('southernwindvlat')\n",
    "\n",
    "print(\"The low r value indicates that there is no significant relationship between wind speed and latitude. The difference between the hemispheres doesn't seem to be significant enough to comment upon.\")\n",
    "      °"
   ]
  },
  {
   "cell_type": "code",
   "execution_count": null,
   "metadata": {},
   "outputs": [],
   "source": []
  }
 ],
 "metadata": {
  "anaconda-cloud": {},
  "kernel_info": {
   "name": "python3"
  },
  "kernelspec": {
   "display_name": "Python 3",
   "language": "python",
   "name": "python3"
  },
  "language_info": {
   "codemirror_mode": {
    "name": "ipython",
    "version": 3
   },
   "file_extension": ".py",
   "mimetype": "text/x-python",
   "name": "python",
   "nbconvert_exporter": "python",
   "pygments_lexer": "ipython3",
   "version": "3.9.1"
  },
  "latex_envs": {
   "LaTeX_envs_menu_present": true,
   "autoclose": false,
   "autocomplete": true,
   "bibliofile": "biblio.bib",
   "cite_by": "apalike",
   "current_citInitial": 1,
   "eqLabelWithNumbers": true,
   "eqNumInitial": 1,
   "hotkeys": {
    "equation": "Ctrl-E",
    "itemize": "Ctrl-I"
   },
   "labels_anchors": false,
   "latex_user_defs": false,
   "report_style_numbering": false,
   "user_envs_cfg": false
  },
  "nteract": {
   "version": "0.12.3"
  }
 },
 "nbformat": 4,
 "nbformat_minor": 2
}
